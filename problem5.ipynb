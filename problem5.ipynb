{
 "cells": [
  {
   "cell_type": "code",
   "execution_count": 2,
   "metadata": {},
   "outputs": [],
   "source": [
    "import numpy as np\n",
    "import matplotlib.pyplot as plt"
   ]
  },
  {
   "cell_type": "code",
   "execution_count": 3,
   "metadata": {},
   "outputs": [],
   "source": [
    "np.random.seed(0)\n",
    "size = 500"
   ]
  },
  {
   "cell_type": "code",
   "execution_count": 4,
   "metadata": {},
   "outputs": [],
   "source": [
    "mean1 = (-3, 0)\n",
    "cov1 = np.array([[1.0, 0.8], [0.8, 1.0]])\n",
    "dummy_data1 = np.random.multivariate_normal(mean1, cov1, size=size)"
   ]
  },
  {
   "cell_type": "code",
   "execution_count": 5,
   "metadata": {},
   "outputs": [],
   "source": [
    "mean2 = (0, -3)\n",
    "cov2 = np.array([[1.0, 0.8], [0.8, 1.0]])\n",
    "dummy_data2 = np.random.multivariate_normal(mean2, cov2, size=size)"
   ]
  },
  {
   "cell_type": "code",
   "execution_count": 6,
   "metadata": {},
   "outputs": [],
   "source": [
    "x1 = dummy_data1[:, 0]\n",
    "x2 = dummy_data1[:, 1]\n",
    "y1 = dummy_data2[:, 0]\n",
    "y2 = dummy_data2[:, 1]"
   ]
  },
  {
   "cell_type": "code",
   "execution_count": 7,
   "metadata": {},
   "outputs": [
    {
     "name": "stdout",
     "output_type": "stream",
     "text": [
      "Dummy data 1 shape: (500, 2)\n",
      "Dummy data 2 shape: (500, 2)\n",
      "Combined data shape: (1000, 2)\n"
     ]
    }
   ],
   "source": [
    "combined_data: np.ndarray = np.concatenate([dummy_data1, dummy_data2])\n",
    "print(f\"Dummy data 1 shape: {dummy_data1.shape}\")\n",
    "print(f\"Dummy data 2 shape: {dummy_data2.shape}\")\n",
    "print(f\"Combined data shape: {combined_data.shape}\")"
   ]
  },
  {
   "cell_type": "code",
   "execution_count": null,
   "metadata": {},
   "outputs": [],
   "source": []
  }
 ],
 "metadata": {
  "kernelspec": {
   "display_name": "Python 3",
   "language": "python",
   "name": "python3"
  },
  "language_info": {
   "codemirror_mode": {
    "name": "ipython",
    "version": 3
   },
   "file_extension": ".py",
   "mimetype": "text/x-python",
   "name": "python",
   "nbconvert_exporter": "python",
   "pygments_lexer": "ipython3",
   "version": "3.10.12"
  }
 },
 "nbformat": 4,
 "nbformat_minor": 2
}
